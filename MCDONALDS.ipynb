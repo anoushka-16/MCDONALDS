{
  "nbformat": 4,
  "nbformat_minor": 0,
  "metadata": {
    "colab": {
      "provenance": []
    },
    "kernelspec": {
      "name": "python3",
      "display_name": "Python 3"
    },
    "language_info": {
      "name": "python"
    }
  },
  "cells": [
    {
      "cell_type": "code",
      "execution_count": null,
      "metadata": {
        "id": "XUzG22KYB5kG"
      },
      "outputs": [],
      "source": [
        "import pandas as pd\n",
        "import numpy as np\n",
        "from sklearn.decomposition import PCA\n",
        "from sklearn.preprocessing import StandardScaler\n",
        "from sklearn.cluster import KMeans\n",
        "from flexclust import flexclust\n",
        "from flexclust import bootFlexclust\n",
        "from flexclust import slswFlexclust\n",
        "from flexmix import flexmix\n",
        "from partykit import ctree\n",
        "from lattice import barchart\n",
        "from mosaicplot import mosaicplot\n",
        "\n",
        "# Load the McDonald's dataset\n",
        "mcdonalds = pd.read_csv(\"https://raw.githubusercontent.com/ajdamico/usdlnr/master/data/inst/mcdonalds.csv\")\n",
        "\n",
        "# Extract the variables\n",
        "MD.x = mcdonalds.iloc[:, 1:11]\n",
        "\n",
        "# Standardize the variables\n",
        "scaler = StandardScaler()\n",
        "MD.x = scaler.fit_transform(MD.x)\n",
        "\n",
        "# Perform principal component analysis\n",
        "MD.pca = PCA().fit(MD.x)\n",
        "\n",
        "# Print summary statistics of the PCA results\n",
        "print(MD.pca.explained_variance_ratio_)\n",
        "print(MD.pca.singular_values_)\n",
        "print(MD.pca.components_)\n",
        "\n",
        "# Cluster the data using K-means and visualize the results\n",
        "kmeans = KMeans(n_clusters=4, random_state=1234).fit(MD.x)\n",
        "MD.k4 = kmeans.labels_\n",
        "plot(MD.pca.transform(MD.x), c=MD.k4, cmap='gray')\n",
        "projAxes(MD.pca)\n",
        "\n",
        "# Perform hierarchical clustering and visualize the results\n",
        "MD.vclust = pd.DataFrame(np.transpose(np.vstack([list(range(1, MD.x.shape[0] + 1)), hclust(dist(np.transpose(MD.x)))[\"order\"]])))\n",
        "MD.vclust.columns = [\"index\", \"order\"]\n",
        "barchart(MD.k4, shade=True, which=MD.vclust[\"order\"].iloc[::-1].values - 1)\n",
        "\n",
        "# Fit a flexible clustering model using stepFlexclust and visualize the results\n",
        "MD.km28 = flexclust.stepFlexclust(MD.x, k=range(2, 9), nrep=10, verbose=False)\n",
        "MD.km28 = flexclust.relabel(MD.km28)\n",
        "plot(MD.km28, xlab=\"number of segments\")\n",
        "\n",
        "# Fit a flexible clustering model using bootFlexclust and visualize the results\n",
        "MD.b28 = bootFlexclust(MD.x, k=range(2, 9), nrep=10, nboot=100)\n",
        "plot(MD.b28, xlab=\"number of segments\", ylab=\"adjusted Rand index\")\n",
        "\n",
        "# Fit a flexible mixture model using stepFlexmix and visualize the results\n",
        "MD.m28 = flexmix.stepFlexmix(MD.x, k=range(2, 9), nrep=10, model=flexmix.FLXMCmvbinary(), verbose=False)\n",
        "plot(MD.m28, ylab=\"value of information criteria (AIC, BIC, ICL)\")\n",
        "\n",
        "# Fit a flexible mixture model using flexmix and compare with K-means\n",
        "MD.m4a = flexmix(MD.x, cluster=MD.k4, model=flexmix.FLXMCmvbinary())\n",
        "table(kmeans=MD.k4, mixture=MD.m4a[0].cluster)\n",
        "\n",
        "# Perform regression using stepFlexmix\n",
        "mcdonalds[\"Like.n\"] = 6 - pd.to_numeric(mcdonalds[\"Like\"])\n",
        "f = \"Like.n ~ \" + \" + \".join(mcdonalds.columns[1:11])\n",
        "MD.reg2 = flexmix.stepFlexmix(f, data=mcdonalds, k=2, nrep=10, verbose=False\n"
      ]
    }
  ]
}